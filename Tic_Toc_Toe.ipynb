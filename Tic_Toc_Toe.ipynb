{
  "nbformat": 4,
  "nbformat_minor": 0,
  "metadata": {
    "colab": {
      "provenance": [],
      "authorship_tag": "ABX9TyOAUEu1HZnxmchNSB9FDjlV",
      "include_colab_link": true
    },
    "kernelspec": {
      "name": "python3",
      "display_name": "Python 3"
    },
    "language_info": {
      "name": "python"
    }
  },
  "cells": [
    {
      "cell_type": "markdown",
      "metadata": {
        "id": "view-in-github",
        "colab_type": "text"
      },
      "source": [
        "<a href=\"https://colab.research.google.com/github/Lahya-Priya/Lahya-Priya/blob/main/Tic_Toc_Toe.ipynb\" target=\"_parent\"><img src=\"https://colab.research.google.com/assets/colab-badge.svg\" alt=\"Open In Colab\"/></a>"
      ]
    },
    {
      "cell_type": "code",
      "execution_count": 3,
      "metadata": {
        "colab": {
          "base_uri": "https://localhost:8080/"
        },
        "id": "lLTrg3xdwtnN",
        "outputId": "3f30b9c4-949a-4d68-c902-37ada7222a51"
      },
      "outputs": [
        {
          "output_type": "stream",
          "name": "stdout",
          "text": [
            "Chatbot: Hello! Type 'bye' to exit.\n",
            "You: hlo\n",
            "Chatbot: I'm sorry, I didn't understand that. Can you please rephrase?\n",
            "You: Hello!\n",
            "Chatbot: Hello! How can I assist you today?\n",
            "You: how are you\n",
            "Chatbot: I'm just a bot, but I'm doing great! How about you?\n",
            "You: great\n",
            "Chatbot: I'm sorry, I didn't understand that. Can you please rephrase?\n",
            "You: goodbye\n",
            "Chatbot: Goodbye! Have a great day!\n"
          ]
        }
      ],
      "source": [
        "# Simple rule-based chatbot\n",
        "\n",
        "def chatbot_response(user_input):\n",
        "    # Convert user input to lowercase for easier matching\n",
        "    user_input = user_input.lower()\n",
        "    # Responses based on simple if-else logic\n",
        "    if \"hello\" in user_input or \"hi\" in user_input:\n",
        "        return \"Hello! How can I assist you today?\"\n",
        "    elif \"how are you\" in user_input:\n",
        "        return \"I'm just a bot, but I'm doing great! How about you?\"\n",
        "    elif \"your name\" in user_input:\n",
        "        return \"I'm your friendly chatbot. You can call me ChatBot!\"\n",
        "    elif \"what can you do\" in user_input:\n",
        "        return \"I can help answer your questions and chat with you!\"\n",
        "    elif \"bye\" in user_input or \"goodbye\" in user_input:\n",
        "        return \"Goodbye! Have a great day!\"\n",
        "    else:\n",
        "        return \"I'm sorry, I didn't understand that. Can you please rephrase?\"\n",
        "\n",
        "# Running the chatbot\n",
        "print(\"Chatbot: Hello! Type 'bye' to exit.\")\n",
        "while True:\n",
        "    user_input = input(\"You: \")\n",
        "    response = chatbot_response(user_input)\n",
        "    print(\"Chatbot:\", response)\n",
        "    if \"bye\" in user_input.lower():\n",
        "        break #Fixed indentation here as well"
      ]
    },
    {
      "cell_type": "code",
      "source": [],
      "metadata": {
        "id": "6AfJmYQeyJSj"
      },
      "execution_count": null,
      "outputs": []
    }
  ]
}